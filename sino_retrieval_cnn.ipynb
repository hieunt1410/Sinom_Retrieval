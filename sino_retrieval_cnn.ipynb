{
 "cells": [
  {
   "cell_type": "code",
   "execution_count": null,
   "metadata": {},
   "outputs": [],
   "source": [
    "!pip install -q gdown faiss-gpu "
   ]
  },
  {
   "cell_type": "code",
   "execution_count": null,
   "metadata": {},
   "outputs": [],
   "source": [
    "!gdown --id 1_9NPC8E-kt4pU6rTi5lkh91eFR_jnFav\n",
    "!unzip -q /kaggle/working/wb_2D3Dretrieval_dataset.zip\n",
    "!rm /kaggle/working/wb_2D3Dretrieval_dataset.zip"
   ]
  },
  {
   "cell_type": "code",
   "execution_count": null,
   "metadata": {},
   "outputs": [],
   "source": [
    "import torch\n",
    "import os\n",
    "import math\n",
    "\n",
    "import matplotlib.pyplot as plt\n",
    "import numpy as np\n",
    "import torch.nn as nn\n",
    "import torchvision.models as models\n",
    "import torchvision.transforms as transforms\n",
    "\n",
    "# from kmeans_pytorch import kmeans\n",
    "from PIL import Image"
   ]
  },
  {
   "cell_type": "code",
   "execution_count": null,
   "metadata": {},
   "outputs": [],
   "source": [
    "import torch\n",
    "import torch.nn as nn\n",
    "from torchvision import models, transforms\n",
    "from PIL import Image\n",
    "import os\n",
    "\n",
    "device = torch.device('cuda' if torch.cuda.is_available() else 'cpu')\n",
    "\n",
    "transform = transforms.Compose([\n",
    "    transforms.Resize((224, 224)),\n",
    "    transforms.ToTensor(),\n",
    "    transforms.Normalize(mean=[0.485, 0.456, 0.406], std=[0.229, 0.224, 0.225])\n",
    "])\n",
    "\n",
    "def initiate_model(model_name):\n",
    "    m = getattr(models, model_name)\n",
    "    if model_name == 'resnet50':\n",
    "        model = m(weights=models.ResNet50_Weights.DEFAULT)\n",
    "    elif model_name =='vgg19':\n",
    "        model = m(weights=models.VGG19_Weights.DEFAULT)\n",
    "    elif model_name == 'efficientnet_b0':\n",
    "        model = m(weights=models.EfficientNet_B0_Weights.DEFAULT)\n",
    "        \n",
    "    model.to(device)\n",
    "    \n",
    "    return model.eval()\n",
    "\n",
    "model = initiate_model('resnet50') #resnet50, vgg19, efficientnet_b0\n",
    "\n",
    "def assign_layer(model, model_name):\n",
    "    if model_name == 'resnet50':\n",
    "        model_embed = nn.Sequential(*list(model.children())[:-1])\n",
    "        \n",
    "        return model_embed\n",
    "\n",
    "    else:\n",
    "        model.classifier = model.classifier[:-1]\n",
    "        \n",
    "        return model\n",
    "        \n",
    "model_embed = assign_layer(model, 'resnet50')\n",
    "\n",
    "def embed_image(img_path):\n",
    "    img = Image.open(img_path).convert('RGB')\n",
    "    img_trans = transform(img)\n",
    "    img_trans = img_trans.to(device)\n",
    "    img_trans = img_trans.unsqueeze(0)\n",
    "\n",
    "    with torch.no_grad():\n",
    "        embedding = model_embed(img_trans)\n",
    "    return embedding\n",
    "\n",
    "def embed_dataset(target_dir):\n",
    "    dataset = {}\n",
    "    for img_name in os.listdir(target_dir):\n",
    "        img_path = os.path.join(target_dir, img_name)\n",
    "        dataset[img_name] = embed_image(img_path)\n",
    "        torch.cuda.empty_cache()\n",
    "    return dataset\n",
    "\n",
    "dataset = embed_dataset('database_2D')\n",
    "\n",
    "def similar_images(source_file, n=None):\n",
    "    source_vec = embed_image(source_file)\n",
    "    \n",
    "    cosine = nn.CosineSimilarity(dim=1)\n",
    "    \n",
    "    sim_dict = {}\n",
    "    for k, v in dataset.items():\n",
    "        sim = cosine(v, source_vec).item()\n",
    "        sim_dict[k] = sim\n",
    "\n",
    "    sim_dict = {k: v for k, v in sorted(sim_dict.items(), key=lambda item: item[1], reverse=True)}\n",
    "\n",
    "    if n is not None:\n",
    "        sim_dict = dict(list(sim_dict.items())[:n])\n",
    "\n",
    "    return list(sim_dict.keys())"
   ]
  },
  {
   "cell_type": "code",
   "execution_count": null,
   "metadata": {},
   "outputs": [],
   "source": [
    "query_mapping = {}\n",
    "\n",
    "for x in os.listdir('queries'):\n",
    "    query_mapping[x] = similar_images(os.path.join('queries', x), 5)    "
   ]
  },
  {
   "cell_type": "code",
   "execution_count": null,
   "metadata": {},
   "outputs": [],
   "source": [
    "def compute_mrr_5(query_mapping):\n",
    "    mrr_at_5 = 0\n",
    "    \n",
    "    for k, v in query_mapping.items():\n",
    "        for i, j in enumerate(v):\n",
    "            if k.split('.')[0] == j.split('.')[0]:\n",
    "                mrr_at_5 += i\n",
    "    \n",
    "    return mrr_at_5 / len(query_mapping)\n",
    "\n",
    "compute_mrr_5(query_mapping)"
   ]
  }
 ],
 "metadata": {
  "language_info": {
   "name": "python"
  }
 },
 "nbformat": 4,
 "nbformat_minor": 2
}
